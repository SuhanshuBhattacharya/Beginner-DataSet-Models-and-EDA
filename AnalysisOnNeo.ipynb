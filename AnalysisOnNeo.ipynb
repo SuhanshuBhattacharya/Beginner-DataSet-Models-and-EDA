{
 "cells": [
  {
   "cell_type": "code",
   "execution_count": 1,
   "id": "d62fc027-daab-400a-9051-7201da7f6a46",
   "metadata": {},
   "outputs": [],
   "source": [
    "import pandas as pd\n",
    "import numpy as np\n",
    "import seaborn as sns\n",
    "from matplotlib import pyplot as plt\n",
    "import warnings\n",
    "warnings.filterwarnings('ignore')\n",
    "import scipy.stats as stats"
   ]
  },
  {
   "cell_type": "code",
   "execution_count": 2,
   "id": "b990461d-7799-49e6-a025-e2a84a28e88a",
   "metadata": {},
   "outputs": [],
   "source": [
    "df=pd.read_csv('~/Downloads/NasaDataset/neo_v2.csv')"
   ]
  },
  {
   "cell_type": "code",
   "execution_count": 3,
   "id": "58b50de2-3010-49fc-bd53-0fdf1744686f",
   "metadata": {},
   "outputs": [
    {
     "data": {
      "text/html": [
       "<div>\n",
       "<style scoped>\n",
       "    .dataframe tbody tr th:only-of-type {\n",
       "        vertical-align: middle;\n",
       "    }\n",
       "\n",
       "    .dataframe tbody tr th {\n",
       "        vertical-align: top;\n",
       "    }\n",
       "\n",
       "    .dataframe thead th {\n",
       "        text-align: right;\n",
       "    }\n",
       "</style>\n",
       "<table border=\"1\" class=\"dataframe\">\n",
       "  <thead>\n",
       "    <tr style=\"text-align: right;\">\n",
       "      <th></th>\n",
       "      <th>id</th>\n",
       "      <th>name</th>\n",
       "      <th>est_diameter_min</th>\n",
       "      <th>est_diameter_max</th>\n",
       "      <th>relative_velocity</th>\n",
       "      <th>miss_distance</th>\n",
       "      <th>orbiting_body</th>\n",
       "      <th>sentry_object</th>\n",
       "      <th>absolute_magnitude</th>\n",
       "      <th>hazardous</th>\n",
       "    </tr>\n",
       "  </thead>\n",
       "  <tbody>\n",
       "    <tr>\n",
       "      <th>0</th>\n",
       "      <td>2162635</td>\n",
       "      <td>162635 (2000 SS164)</td>\n",
       "      <td>1.198271</td>\n",
       "      <td>2.679415</td>\n",
       "      <td>13569.249224</td>\n",
       "      <td>5.483974e+07</td>\n",
       "      <td>Earth</td>\n",
       "      <td>False</td>\n",
       "      <td>16.73</td>\n",
       "      <td>False</td>\n",
       "    </tr>\n",
       "    <tr>\n",
       "      <th>1</th>\n",
       "      <td>2277475</td>\n",
       "      <td>277475 (2005 WK4)</td>\n",
       "      <td>0.265800</td>\n",
       "      <td>0.594347</td>\n",
       "      <td>73588.726663</td>\n",
       "      <td>6.143813e+07</td>\n",
       "      <td>Earth</td>\n",
       "      <td>False</td>\n",
       "      <td>20.00</td>\n",
       "      <td>True</td>\n",
       "    </tr>\n",
       "    <tr>\n",
       "      <th>2</th>\n",
       "      <td>2512244</td>\n",
       "      <td>512244 (2015 YE18)</td>\n",
       "      <td>0.722030</td>\n",
       "      <td>1.614507</td>\n",
       "      <td>114258.692129</td>\n",
       "      <td>4.979872e+07</td>\n",
       "      <td>Earth</td>\n",
       "      <td>False</td>\n",
       "      <td>17.83</td>\n",
       "      <td>False</td>\n",
       "    </tr>\n",
       "    <tr>\n",
       "      <th>3</th>\n",
       "      <td>3596030</td>\n",
       "      <td>(2012 BV13)</td>\n",
       "      <td>0.096506</td>\n",
       "      <td>0.215794</td>\n",
       "      <td>24764.303138</td>\n",
       "      <td>2.543497e+07</td>\n",
       "      <td>Earth</td>\n",
       "      <td>False</td>\n",
       "      <td>22.20</td>\n",
       "      <td>False</td>\n",
       "    </tr>\n",
       "    <tr>\n",
       "      <th>4</th>\n",
       "      <td>3667127</td>\n",
       "      <td>(2014 GE35)</td>\n",
       "      <td>0.255009</td>\n",
       "      <td>0.570217</td>\n",
       "      <td>42737.733765</td>\n",
       "      <td>4.627557e+07</td>\n",
       "      <td>Earth</td>\n",
       "      <td>False</td>\n",
       "      <td>20.09</td>\n",
       "      <td>True</td>\n",
       "    </tr>\n",
       "    <tr>\n",
       "      <th>...</th>\n",
       "      <td>...</td>\n",
       "      <td>...</td>\n",
       "      <td>...</td>\n",
       "      <td>...</td>\n",
       "      <td>...</td>\n",
       "      <td>...</td>\n",
       "      <td>...</td>\n",
       "      <td>...</td>\n",
       "      <td>...</td>\n",
       "      <td>...</td>\n",
       "    </tr>\n",
       "    <tr>\n",
       "      <th>90831</th>\n",
       "      <td>3763337</td>\n",
       "      <td>(2016 VX1)</td>\n",
       "      <td>0.026580</td>\n",
       "      <td>0.059435</td>\n",
       "      <td>52078.886692</td>\n",
       "      <td>1.230039e+07</td>\n",
       "      <td>Earth</td>\n",
       "      <td>False</td>\n",
       "      <td>25.00</td>\n",
       "      <td>False</td>\n",
       "    </tr>\n",
       "    <tr>\n",
       "      <th>90832</th>\n",
       "      <td>3837603</td>\n",
       "      <td>(2019 AD3)</td>\n",
       "      <td>0.016771</td>\n",
       "      <td>0.037501</td>\n",
       "      <td>46114.605073</td>\n",
       "      <td>5.432121e+07</td>\n",
       "      <td>Earth</td>\n",
       "      <td>False</td>\n",
       "      <td>26.00</td>\n",
       "      <td>False</td>\n",
       "    </tr>\n",
       "    <tr>\n",
       "      <th>90833</th>\n",
       "      <td>54017201</td>\n",
       "      <td>(2020 JP3)</td>\n",
       "      <td>0.031956</td>\n",
       "      <td>0.071456</td>\n",
       "      <td>7566.807732</td>\n",
       "      <td>2.840077e+07</td>\n",
       "      <td>Earth</td>\n",
       "      <td>False</td>\n",
       "      <td>24.60</td>\n",
       "      <td>False</td>\n",
       "    </tr>\n",
       "    <tr>\n",
       "      <th>90834</th>\n",
       "      <td>54115824</td>\n",
       "      <td>(2021 CN5)</td>\n",
       "      <td>0.007321</td>\n",
       "      <td>0.016370</td>\n",
       "      <td>69199.154484</td>\n",
       "      <td>6.869206e+07</td>\n",
       "      <td>Earth</td>\n",
       "      <td>False</td>\n",
       "      <td>27.80</td>\n",
       "      <td>False</td>\n",
       "    </tr>\n",
       "    <tr>\n",
       "      <th>90835</th>\n",
       "      <td>54205447</td>\n",
       "      <td>(2021 TW7)</td>\n",
       "      <td>0.039862</td>\n",
       "      <td>0.089133</td>\n",
       "      <td>27024.455553</td>\n",
       "      <td>5.977213e+07</td>\n",
       "      <td>Earth</td>\n",
       "      <td>False</td>\n",
       "      <td>24.12</td>\n",
       "      <td>False</td>\n",
       "    </tr>\n",
       "  </tbody>\n",
       "</table>\n",
       "<p>90836 rows × 10 columns</p>\n",
       "</div>"
      ],
      "text/plain": [
       "             id                 name  est_diameter_min  est_diameter_max  \\\n",
       "0       2162635  162635 (2000 SS164)          1.198271          2.679415   \n",
       "1       2277475    277475 (2005 WK4)          0.265800          0.594347   \n",
       "2       2512244   512244 (2015 YE18)          0.722030          1.614507   \n",
       "3       3596030          (2012 BV13)          0.096506          0.215794   \n",
       "4       3667127          (2014 GE35)          0.255009          0.570217   \n",
       "...         ...                  ...               ...               ...   \n",
       "90831   3763337           (2016 VX1)          0.026580          0.059435   \n",
       "90832   3837603           (2019 AD3)          0.016771          0.037501   \n",
       "90833  54017201           (2020 JP3)          0.031956          0.071456   \n",
       "90834  54115824           (2021 CN5)          0.007321          0.016370   \n",
       "90835  54205447           (2021 TW7)          0.039862          0.089133   \n",
       "\n",
       "       relative_velocity  miss_distance orbiting_body  sentry_object  \\\n",
       "0           13569.249224   5.483974e+07         Earth          False   \n",
       "1           73588.726663   6.143813e+07         Earth          False   \n",
       "2          114258.692129   4.979872e+07         Earth          False   \n",
       "3           24764.303138   2.543497e+07         Earth          False   \n",
       "4           42737.733765   4.627557e+07         Earth          False   \n",
       "...                  ...            ...           ...            ...   \n",
       "90831       52078.886692   1.230039e+07         Earth          False   \n",
       "90832       46114.605073   5.432121e+07         Earth          False   \n",
       "90833        7566.807732   2.840077e+07         Earth          False   \n",
       "90834       69199.154484   6.869206e+07         Earth          False   \n",
       "90835       27024.455553   5.977213e+07         Earth          False   \n",
       "\n",
       "       absolute_magnitude  hazardous  \n",
       "0                   16.73      False  \n",
       "1                   20.00       True  \n",
       "2                   17.83      False  \n",
       "3                   22.20      False  \n",
       "4                   20.09       True  \n",
       "...                   ...        ...  \n",
       "90831               25.00      False  \n",
       "90832               26.00      False  \n",
       "90833               24.60      False  \n",
       "90834               27.80      False  \n",
       "90835               24.12      False  \n",
       "\n",
       "[90836 rows x 10 columns]"
      ]
     },
     "execution_count": 3,
     "metadata": {},
     "output_type": "execute_result"
    }
   ],
   "source": [
    "df"
   ]
  },
  {
   "cell_type": "code",
   "execution_count": 4,
   "id": "fc4a93aa-01a0-4653-8778-91fb70af8b6a",
   "metadata": {},
   "outputs": [
    {
     "name": "stdout",
     "output_type": "stream",
     "text": [
      "<class 'pandas.core.frame.DataFrame'>\n",
      "RangeIndex: 90836 entries, 0 to 90835\n",
      "Data columns (total 10 columns):\n",
      " #   Column              Non-Null Count  Dtype  \n",
      "---  ------              --------------  -----  \n",
      " 0   id                  90836 non-null  int64  \n",
      " 1   name                90836 non-null  object \n",
      " 2   est_diameter_min    90836 non-null  float64\n",
      " 3   est_diameter_max    90836 non-null  float64\n",
      " 4   relative_velocity   90836 non-null  float64\n",
      " 5   miss_distance       90836 non-null  float64\n",
      " 6   orbiting_body       90836 non-null  object \n",
      " 7   sentry_object       90836 non-null  bool   \n",
      " 8   absolute_magnitude  90836 non-null  float64\n",
      " 9   hazardous           90836 non-null  bool   \n",
      "dtypes: bool(2), float64(5), int64(1), object(2)\n",
      "memory usage: 5.7+ MB\n"
     ]
    }
   ],
   "source": [
    "# Info of the data\n",
    "df.info()"
   ]
  },
  {
   "cell_type": "code",
   "execution_count": 5,
   "id": "b0abb463-8c6c-4ad3-94b4-1000ccfd09cc",
   "metadata": {},
   "outputs": [
    {
     "data": {
      "text/html": [
       "<div>\n",
       "<style scoped>\n",
       "    .dataframe tbody tr th:only-of-type {\n",
       "        vertical-align: middle;\n",
       "    }\n",
       "\n",
       "    .dataframe tbody tr th {\n",
       "        vertical-align: top;\n",
       "    }\n",
       "\n",
       "    .dataframe thead th {\n",
       "        text-align: right;\n",
       "    }\n",
       "</style>\n",
       "<table border=\"1\" class=\"dataframe\">\n",
       "  <thead>\n",
       "    <tr style=\"text-align: right;\">\n",
       "      <th></th>\n",
       "      <th>id</th>\n",
       "      <th>est_diameter_min</th>\n",
       "      <th>est_diameter_max</th>\n",
       "      <th>relative_velocity</th>\n",
       "      <th>miss_distance</th>\n",
       "      <th>absolute_magnitude</th>\n",
       "    </tr>\n",
       "  </thead>\n",
       "  <tbody>\n",
       "    <tr>\n",
       "      <th>count</th>\n",
       "      <td>9.083600e+04</td>\n",
       "      <td>90836.000000</td>\n",
       "      <td>90836.000000</td>\n",
       "      <td>90836.000000</td>\n",
       "      <td>9.083600e+04</td>\n",
       "      <td>90836.000000</td>\n",
       "    </tr>\n",
       "    <tr>\n",
       "      <th>mean</th>\n",
       "      <td>1.438288e+07</td>\n",
       "      <td>0.127432</td>\n",
       "      <td>0.284947</td>\n",
       "      <td>48066.918918</td>\n",
       "      <td>3.706655e+07</td>\n",
       "      <td>23.527103</td>\n",
       "    </tr>\n",
       "    <tr>\n",
       "      <th>std</th>\n",
       "      <td>2.087202e+07</td>\n",
       "      <td>0.298511</td>\n",
       "      <td>0.667491</td>\n",
       "      <td>25293.296961</td>\n",
       "      <td>2.235204e+07</td>\n",
       "      <td>2.894086</td>\n",
       "    </tr>\n",
       "    <tr>\n",
       "      <th>min</th>\n",
       "      <td>2.000433e+06</td>\n",
       "      <td>0.000609</td>\n",
       "      <td>0.001362</td>\n",
       "      <td>203.346433</td>\n",
       "      <td>6.745533e+03</td>\n",
       "      <td>9.230000</td>\n",
       "    </tr>\n",
       "    <tr>\n",
       "      <th>25%</th>\n",
       "      <td>3.448110e+06</td>\n",
       "      <td>0.019256</td>\n",
       "      <td>0.043057</td>\n",
       "      <td>28619.020645</td>\n",
       "      <td>1.721082e+07</td>\n",
       "      <td>21.340000</td>\n",
       "    </tr>\n",
       "    <tr>\n",
       "      <th>50%</th>\n",
       "      <td>3.748362e+06</td>\n",
       "      <td>0.048368</td>\n",
       "      <td>0.108153</td>\n",
       "      <td>44190.117890</td>\n",
       "      <td>3.784658e+07</td>\n",
       "      <td>23.700000</td>\n",
       "    </tr>\n",
       "    <tr>\n",
       "      <th>75%</th>\n",
       "      <td>3.884023e+06</td>\n",
       "      <td>0.143402</td>\n",
       "      <td>0.320656</td>\n",
       "      <td>62923.604633</td>\n",
       "      <td>5.654900e+07</td>\n",
       "      <td>25.700000</td>\n",
       "    </tr>\n",
       "    <tr>\n",
       "      <th>max</th>\n",
       "      <td>5.427591e+07</td>\n",
       "      <td>37.892650</td>\n",
       "      <td>84.730541</td>\n",
       "      <td>236990.128088</td>\n",
       "      <td>7.479865e+07</td>\n",
       "      <td>33.200000</td>\n",
       "    </tr>\n",
       "  </tbody>\n",
       "</table>\n",
       "</div>"
      ],
      "text/plain": [
       "                 id  est_diameter_min  est_diameter_max  relative_velocity  \\\n",
       "count  9.083600e+04      90836.000000      90836.000000       90836.000000   \n",
       "mean   1.438288e+07          0.127432          0.284947       48066.918918   \n",
       "std    2.087202e+07          0.298511          0.667491       25293.296961   \n",
       "min    2.000433e+06          0.000609          0.001362         203.346433   \n",
       "25%    3.448110e+06          0.019256          0.043057       28619.020645   \n",
       "50%    3.748362e+06          0.048368          0.108153       44190.117890   \n",
       "75%    3.884023e+06          0.143402          0.320656       62923.604633   \n",
       "max    5.427591e+07         37.892650         84.730541      236990.128088   \n",
       "\n",
       "       miss_distance  absolute_magnitude  \n",
       "count   9.083600e+04        90836.000000  \n",
       "mean    3.706655e+07           23.527103  \n",
       "std     2.235204e+07            2.894086  \n",
       "min     6.745533e+03            9.230000  \n",
       "25%     1.721082e+07           21.340000  \n",
       "50%     3.784658e+07           23.700000  \n",
       "75%     5.654900e+07           25.700000  \n",
       "max     7.479865e+07           33.200000  "
      ]
     },
     "execution_count": 5,
     "metadata": {},
     "output_type": "execute_result"
    }
   ],
   "source": [
    "# Summary Statistics\n",
    "df.describe()"
   ]
  },
  {
   "cell_type": "code",
   "execution_count": 6,
   "id": "1415abf0-5ce0-4760-935b-5454f3764ca4",
   "metadata": {},
   "outputs": [
    {
     "data": {
      "text/plain": [
       "id                    0\n",
       "name                  0\n",
       "est_diameter_min      0\n",
       "est_diameter_max      0\n",
       "relative_velocity     0\n",
       "miss_distance         0\n",
       "orbiting_body         0\n",
       "sentry_object         0\n",
       "absolute_magnitude    0\n",
       "hazardous             0\n",
       "dtype: int64"
      ]
     },
     "execution_count": 6,
     "metadata": {},
     "output_type": "execute_result"
    }
   ],
   "source": [
    "df.isnull().sum()\n",
    "# Data has no missing values"
   ]
  },
  {
   "cell_type": "code",
   "execution_count": 7,
   "id": "24181b08-85a0-4c79-9944-601e4274eb3c",
   "metadata": {},
   "outputs": [
    {
     "data": {
      "text/html": [
       "<div>\n",
       "<style scoped>\n",
       "    .dataframe tbody tr th:only-of-type {\n",
       "        vertical-align: middle;\n",
       "    }\n",
       "\n",
       "    .dataframe tbody tr th {\n",
       "        vertical-align: top;\n",
       "    }\n",
       "\n",
       "    .dataframe thead th {\n",
       "        text-align: right;\n",
       "    }\n",
       "</style>\n",
       "<table border=\"1\" class=\"dataframe\">\n",
       "  <thead>\n",
       "    <tr style=\"text-align: right;\">\n",
       "      <th></th>\n",
       "      <th>id</th>\n",
       "      <th>est_diameter_min</th>\n",
       "      <th>est_diameter_max</th>\n",
       "      <th>relative_velocity</th>\n",
       "      <th>miss_distance</th>\n",
       "      <th>sentry_object</th>\n",
       "      <th>absolute_magnitude</th>\n",
       "      <th>hazardous</th>\n",
       "    </tr>\n",
       "  </thead>\n",
       "  <tbody>\n",
       "    <tr>\n",
       "      <th>id</th>\n",
       "      <td>1.000000</td>\n",
       "      <td>-0.148322</td>\n",
       "      <td>-0.148322</td>\n",
       "      <td>-0.059176</td>\n",
       "      <td>-0.056510</td>\n",
       "      <td>NaN</td>\n",
       "      <td>0.277258</td>\n",
       "      <td>-0.123443</td>\n",
       "    </tr>\n",
       "    <tr>\n",
       "      <th>est_diameter_min</th>\n",
       "      <td>-0.148322</td>\n",
       "      <td>1.000000</td>\n",
       "      <td>1.000000</td>\n",
       "      <td>0.221553</td>\n",
       "      <td>0.142241</td>\n",
       "      <td>NaN</td>\n",
       "      <td>-0.560188</td>\n",
       "      <td>0.183363</td>\n",
       "    </tr>\n",
       "    <tr>\n",
       "      <th>est_diameter_max</th>\n",
       "      <td>-0.148322</td>\n",
       "      <td>1.000000</td>\n",
       "      <td>1.000000</td>\n",
       "      <td>0.221553</td>\n",
       "      <td>0.142241</td>\n",
       "      <td>NaN</td>\n",
       "      <td>-0.560188</td>\n",
       "      <td>0.183363</td>\n",
       "    </tr>\n",
       "    <tr>\n",
       "      <th>relative_velocity</th>\n",
       "      <td>-0.059176</td>\n",
       "      <td>0.221553</td>\n",
       "      <td>0.221553</td>\n",
       "      <td>1.000000</td>\n",
       "      <td>0.327169</td>\n",
       "      <td>NaN</td>\n",
       "      <td>-0.353863</td>\n",
       "      <td>0.191185</td>\n",
       "    </tr>\n",
       "    <tr>\n",
       "      <th>miss_distance</th>\n",
       "      <td>-0.056510</td>\n",
       "      <td>0.142241</td>\n",
       "      <td>0.142241</td>\n",
       "      <td>0.327169</td>\n",
       "      <td>1.000000</td>\n",
       "      <td>NaN</td>\n",
       "      <td>-0.264168</td>\n",
       "      <td>0.042302</td>\n",
       "    </tr>\n",
       "    <tr>\n",
       "      <th>sentry_object</th>\n",
       "      <td>NaN</td>\n",
       "      <td>NaN</td>\n",
       "      <td>NaN</td>\n",
       "      <td>NaN</td>\n",
       "      <td>NaN</td>\n",
       "      <td>NaN</td>\n",
       "      <td>NaN</td>\n",
       "      <td>NaN</td>\n",
       "    </tr>\n",
       "    <tr>\n",
       "      <th>absolute_magnitude</th>\n",
       "      <td>0.277258</td>\n",
       "      <td>-0.560188</td>\n",
       "      <td>-0.560188</td>\n",
       "      <td>-0.353863</td>\n",
       "      <td>-0.264168</td>\n",
       "      <td>NaN</td>\n",
       "      <td>1.000000</td>\n",
       "      <td>-0.365267</td>\n",
       "    </tr>\n",
       "    <tr>\n",
       "      <th>hazardous</th>\n",
       "      <td>-0.123443</td>\n",
       "      <td>0.183363</td>\n",
       "      <td>0.183363</td>\n",
       "      <td>0.191185</td>\n",
       "      <td>0.042302</td>\n",
       "      <td>NaN</td>\n",
       "      <td>-0.365267</td>\n",
       "      <td>1.000000</td>\n",
       "    </tr>\n",
       "  </tbody>\n",
       "</table>\n",
       "</div>"
      ],
      "text/plain": [
       "                          id  est_diameter_min  est_diameter_max  \\\n",
       "id                  1.000000         -0.148322         -0.148322   \n",
       "est_diameter_min   -0.148322          1.000000          1.000000   \n",
       "est_diameter_max   -0.148322          1.000000          1.000000   \n",
       "relative_velocity  -0.059176          0.221553          0.221553   \n",
       "miss_distance      -0.056510          0.142241          0.142241   \n",
       "sentry_object            NaN               NaN               NaN   \n",
       "absolute_magnitude  0.277258         -0.560188         -0.560188   \n",
       "hazardous          -0.123443          0.183363          0.183363   \n",
       "\n",
       "                    relative_velocity  miss_distance  sentry_object  \\\n",
       "id                          -0.059176      -0.056510            NaN   \n",
       "est_diameter_min             0.221553       0.142241            NaN   \n",
       "est_diameter_max             0.221553       0.142241            NaN   \n",
       "relative_velocity            1.000000       0.327169            NaN   \n",
       "miss_distance                0.327169       1.000000            NaN   \n",
       "sentry_object                     NaN            NaN            NaN   \n",
       "absolute_magnitude          -0.353863      -0.264168            NaN   \n",
       "hazardous                    0.191185       0.042302            NaN   \n",
       "\n",
       "                    absolute_magnitude  hazardous  \n",
       "id                            0.277258  -0.123443  \n",
       "est_diameter_min             -0.560188   0.183363  \n",
       "est_diameter_max             -0.560188   0.183363  \n",
       "relative_velocity            -0.353863   0.191185  \n",
       "miss_distance                -0.264168   0.042302  \n",
       "sentry_object                      NaN        NaN  \n",
       "absolute_magnitude            1.000000  -0.365267  \n",
       "hazardous                    -0.365267   1.000000  "
      ]
     },
     "execution_count": 7,
     "metadata": {},
     "output_type": "execute_result"
    }
   ],
   "source": [
    "# Co-relation DataFrame\n",
    "df.corr()"
   ]
  },
  {
   "cell_type": "code",
   "execution_count": 8,
   "id": "48c657ff-4551-402c-9699-b54b3b10e809",
   "metadata": {},
   "outputs": [
    {
     "data": {
      "text/plain": [
       "<AxesSubplot:>"
      ]
     },
     "execution_count": 8,
     "metadata": {},
     "output_type": "execute_result"
    },
    {
     "data": {
      "image/png": "[encoded data removed]",
      "text/plain": [
       "<Figure size 432x288 with 2 Axes>"
      ]
     },
     "metadata": {
      "needs_background": "light"
     },
     "output_type": "display_data"
    }
   ],
   "source": [
    "sns.heatmap(df.corr(),cmap='YlGnBu')"
   ]
  },
  {
   "cell_type": "code",
   "execution_count": 9,
   "id": "6dd18802-087b-4280-96e3-97cc62536938",
   "metadata": {},
   "outputs": [],
   "source": [
    "# Based on observations from the heatmap\n",
    "# Dropping columns Sentry_object and Orbiting_body\n",
    "# Reason for this is that every entry is Sentry_object is given as False and every entry in orbiting_body is given as Earth\n",
    "# So it makes sense into dropping these variables\n",
    "df.drop(columns=['sentry_object','orbiting_body'],inplace=True)"
   ]
  },
  {
   "cell_type": "markdown",
   "id": "d7021dd9-4e57-448d-9c65-0ad171e33ce2",
   "metadata": {},
   "source": [
    "## Univariate Analysis"
   ]
  },
  {
   "cell_type": "code",
   "execution_count": 10,
   "id": "d090fade-0e7a-45f3-b93d-270dda7025f5",
   "metadata": {},
   "outputs": [
    {
     "data": {
      "text/plain": [
       "Index(['est_diameter_min', 'est_diameter_max', 'relative_velocity',\n",
       "       'miss_distance', 'absolute_magnitude'],\n",
       "      dtype='object')"
      ]
     },
     "execution_count": 10,
     "metadata": {},
     "output_type": "execute_result"
    }
   ],
   "source": [
    "df.select_dtypes(include=np.number).drop(columns='id').columns"
   ]
  },
  {
   "cell_type": "code",
   "execution_count": 11,
   "id": "65250adb-1547-4c1f-a13c-df62915b3cae",
   "metadata": {},
   "outputs": [],
   "source": [
    "nums=['est_diameter_min', 'est_diameter_max', 'relative_velocity',\n",
    "       'miss_distance', 'absolute_magnitude']"
   ]
  },
  {
   "cell_type": "code",
   "execution_count": 12,
   "id": "3c81f98d-5bfc-404a-bd35-02df801375cb",
   "metadata": {},
   "outputs": [
    {
     "data": {
      "image/png": "[encoded data removed]",
      "text/plain": [
       "<Figure size 720x576 with 5 Axes>"
      ]
     },
     "metadata": {
      "needs_background": "light"
     },
     "output_type": "display_data"
    }
   ],
   "source": [
    "rows=3\n",
    "cols=2\n",
    "counter=1\n",
    "plt.rcParams['figure.figsize']=[10,8]\n",
    "for i in nums:\n",
    "    plt.subplot(rows,cols,counter)\n",
    "    sns.distplot(df[i])\n",
    "    counter+=1\n",
    "plt.tight_layout()\n",
    "plt.show()"
   ]
  },
  {
   "cell_type": "code",
   "execution_count": 13,
   "id": "37befda8-2da1-4688-aec4-54156a045cf1",
   "metadata": {},
   "outputs": [
    {
     "data": {
      "image/png": "[encoded data removed]",
      "text/plain": [
       "<Figure size 720x576 with 1 Axes>"
      ]
     },
     "metadata": {
      "needs_background": "light"
     },
     "output_type": "display_data"
    }
   ],
   "source": [
    "sns.countplot(x='hazardous',data=df)\n",
    "plt.show()"
   ]
  },
  {
   "cell_type": "markdown",
   "id": "fda26a40-92fa-4e02-b60c-a55dc3492015",
   "metadata": {},
   "source": [
    "### Inferences From the subplots\n",
    "\n",
    "* Estimated minimum Diameter and estimated maximum Diameter are highly positively skewed with sharp spike at on end, indicating the presence of outliers\n",
    "* Relative Velocity is mildly positive skewed\n",
    "* miss_distance is uniform over the data\n",
    "* Absolute magnitude is the closest one to a normal distribution curve\n",
    "* There are a lot more non-hazardous object than hazardous"
   ]
  },
  {
   "cell_type": "markdown",
   "id": "1fa9d8a9-85e7-4eae-a88b-d6bddbac315a",
   "metadata": {},
   "source": [
    "## Bivariate Analysis"
   ]
  },
  {
   "cell_type": "code",
   "execution_count": 14,
   "id": "dcaca9e8-7984-40fc-9a99-fc50b067c8c6",
   "metadata": {},
   "outputs": [
    {
     "data": {
      "text/plain": [
       "Index(['est_diameter_min', 'est_diameter_max', 'relative_velocity',\n",
       "       'miss_distance', 'absolute_magnitude'],\n",
       "      dtype='object')"
      ]
     },
     "execution_count": 14,
     "metadata": {},
     "output_type": "execute_result"
    }
   ],
   "source": [
    "df.select_dtypes(include=np.number).drop(columns='id').columns"
   ]
  },
  {
   "cell_type": "code",
   "execution_count": 15,
   "id": "1c69302d-ce56-4395-9688-ae849f8d609d",
   "metadata": {},
   "outputs": [],
   "source": [
    "nums=['est_diameter_min', 'est_diameter_max', 'relative_velocity',\n",
    "       'miss_distance', 'absolute_magnitude']"
   ]
  },
  {
   "cell_type": "code",
   "execution_count": 16,
   "id": "aaf9f6d8-effb-448b-9704-8094ddc52d09",
   "metadata": {},
   "outputs": [
    {
     "data": {
      "image/png": "[encoded data removed]",
      "text/plain": [
       "<Figure size 720x576 with 5 Axes>"
      ]
     },
     "metadata": {
      "needs_background": "light"
     },
     "output_type": "display_data"
    }
   ],
   "source": [
    "# Making subplots for multiple boxplots and comparing with our target variable\n",
    "\n",
    "rows=3\n",
    "cols=2\n",
    "counter=1\n",
    "plt.rcParams['figure.figsize']=[10,8]\n",
    "for i in nums:\n",
    "    plt.subplot(rows,cols,counter)\n",
    "    sns.boxplot(x='hazardous',y=i,data=df)\n",
    "    counter+=1\n",
    "    \n",
    "plt.tight_layout()\n",
    "plt.show()"
   ]
  },
  {
   "cell_type": "markdown",
   "id": "cd54d123-0426-4e98-b4de-1c11b02fcc1b",
   "metadata": {},
   "source": [
    "### Inferences from the boxplots:\n",
    "\n",
    "* Non-Hazardous objects have a higher estimated minimum and maximum diameter\n",
    "* Our Hypothesis is that Hazardous objects have a higher relative_velocity\n",
    "* It seems that hazardous objects have a slightly higher miss_distance\n",
    "* The graphs indicate that Non-Hazardous objects have considerably higher absolute_magnitude."
   ]
  },
  {
   "cell_type": "code",
   "execution_count": 17,
   "id": "1455ee65-a307-4cc8-8ffa-79cd2e61cc84",
   "metadata": {},
   "outputs": [],
   "source": [
    "# Extracting year from name to see later on whether we could have a paatern\n",
    "df[['drop','work']]=df.name.str.split('(',expand=True)"
   ]
  },
  {
   "cell_type": "code",
   "execution_count": 18,
   "id": "b0c7e752-d9d1-45dd-a7af-91bf5323eefa",
   "metadata": {},
   "outputs": [],
   "source": [
    "# Dropping the unnecessary extra column we made\n",
    "df.drop(columns='drop',inplace=True)"
   ]
  },
  {
   "cell_type": "code",
   "execution_count": 19,
   "id": "421f7ef9-8f9e-4182-91a8-0a13b2c6467e",
   "metadata": {},
   "outputs": [],
   "source": [
    "def year_extract(x):\n",
    "    return x.strip()[0:x.strip().index(' ')]\n",
    "df['year']=df['work'].apply(year_extract)"
   ]
  },
  {
   "cell_type": "code",
   "execution_count": 20,
   "id": "2f532f54-a5fd-435f-8347-4e5e2885d114",
   "metadata": {},
   "outputs": [
    {
     "data": {
      "text/plain": [
       "array(['2000', '2005', '2015', '2012', '2014', '2021', '2001', '2016',\n",
       "       '2020', '2022', '2017', '2018', '2019', '2003', '2006', '2013',\n",
       "       '1994', '1998', '1978', '1984', '1980', '2007', '2009', '2011',\n",
       "       '1991', '2004', '2002', '2010', '1990', '2008', '1999', '1993',\n",
       "       '1997', '1995', '1951', '1950', '1996', '1986', '1992', '1987',\n",
       "       '1971', '1989', '1960', '1982', '1953', 'A911', '1976', '1973',\n",
       "       '1936', '1988', '1977', '1937', '1985', '1948', '6743', '1983',\n",
       "       'A898', '1949', '1974', '1932', '1972', '4788', '6344', '1968',\n",
       "       '1981', '1979', 'A924', '1947', '1959', '1975', '1929', 'A/2019',\n",
       "       '1963'], dtype=object)"
      ]
     },
     "execution_count": 20,
     "metadata": {},
     "output_type": "execute_result"
    }
   ],
   "source": [
    "df['year'].unique()"
   ]
  },
  {
   "cell_type": "code",
   "execution_count": 21,
   "id": "a2994941-d74c-4417-97fb-94f5552ea033",
   "metadata": {},
   "outputs": [],
   "source": [
    "# [A911,6743,A898,4788,6344,A924,A/2019] --> Years to be changed "
   ]
  },
  {
   "cell_type": "code",
   "execution_count": 22,
   "id": "b2c83c06-8daa-43a2-9b57-388bbd780561",
   "metadata": {},
   "outputs": [],
   "source": [
    "df.loc[df.year=='A911','year']='1911' \n",
    "df.loc[df.year=='6743','year']='1960'\n",
    "df.loc[df.year=='A898','year']='1898'\n",
    "df.loc[df.year=='6344','year']='1960'\n",
    "df.loc[df.year=='A924','year']='1924'\n",
    "df.loc[df.year=='A/2019','year']='2019'\n",
    "df.loc[df.year=='4788','year']='1960'"
   ]
  },
  {
   "cell_type": "code",
   "execution_count": 23,
   "id": "1c5b262c-6ef6-4ad1-8b56-f1afe5169cf9",
   "metadata": {},
   "outputs": [
    {
     "data": {
      "text/plain": [
       "array(['2000', '2005', '2015', '2012', '2014', '2021', '2001', '2016',\n",
       "       '2020', '2022', '2017', '2018', '2019', '2003', '2006', '2013',\n",
       "       '1994', '1998', '1978', '1984', '1980', '2007', '2009', '2011',\n",
       "       '1991', '2004', '2002', '2010', '1990', '2008', '1999', '1993',\n",
       "       '1997', '1995', '1951', '1950', '1996', '1986', '1992', '1987',\n",
       "       '1971', '1989', '1960', '1982', '1953', '1911', '1976', '1973',\n",
       "       '1936', '1988', '1977', '1937', '1985', '1948', '1983', '1898',\n",
       "       '1949', '1974', '1932', '1972', '1968', '1981', '1979', '1924',\n",
       "       '1947', '1959', '1975', '1929', '1963'], dtype=object)"
      ]
     },
     "execution_count": 23,
     "metadata": {},
     "output_type": "execute_result"
    }
   ],
   "source": [
    "df.year.unique()"
   ]
  },
  {
   "cell_type": "code",
   "execution_count": 24,
   "id": "467190ee-9a15-4660-9bc9-4ab10dfabdcd",
   "metadata": {},
   "outputs": [],
   "source": [
    "df.year=df.year.astype(int) # Converting into int to check distribution"
   ]
  },
  {
   "cell_type": "code",
   "execution_count": 25,
   "id": "55e52996-fe4e-451b-ab38-0252d3ca51a4",
   "metadata": {},
   "outputs": [
    {
     "data": {
      "image/png": "[encoded data removed]",
      "text/plain": [
       "<Figure size 720x576 with 1 Axes>"
      ]
     },
     "metadata": {
      "needs_background": "light"
     },
     "output_type": "display_data"
    }
   ],
   "source": [
    "sns.distplot(df.year)\n",
    "plt.show()"
   ]
  },
  {
   "cell_type": "code",
   "execution_count": 26,
   "id": "7ec8ca16-a830-4241-bbcc-df0c348fc79b",
   "metadata": {},
   "outputs": [
    {
     "data": {
      "text/plain": [
       "array([2000, 2005, 2015, 2012, 2014, 2021, 2001, 2016, 2020, 2022, 2017,\n",
       "       2018, 2019, 2003, 2006, 2013, 1994, 1998, 1978, 1984, 1980, 2007,\n",
       "       2009, 2011, 1991, 2004, 2002, 2010, 1990, 2008, 1999, 1993, 1997,\n",
       "       1995, 1951, 1950, 1996, 1986, 1992, 1987, 1971, 1989, 1960, 1982,\n",
       "       1953, 1911, 1976, 1973, 1936, 1988, 1977, 1937, 1985, 1948, 1983,\n",
       "       1898, 1949, 1974, 1932, 1972, 1968, 1981, 1979, 1924, 1947, 1959,\n",
       "       1975, 1929, 1963])"
      ]
     },
     "execution_count": 26,
     "metadata": {},
     "output_type": "execute_result"
    }
   ],
   "source": [
    "df.year.unique()"
   ]
  },
  {
   "cell_type": "code",
   "execution_count": 27,
   "id": "46efec9a-bef8-4d86-8507-1acfec93ad61",
   "metadata": {},
   "outputs": [],
   "source": [
    "# Dropping the extra column we made\n",
    "df.drop(columns=['work'],inplace=True)"
   ]
  },
  {
   "cell_type": "code",
   "execution_count": 28,
   "id": "bc4b7396-98e1-4366-b717-8fc42996b401",
   "metadata": {},
   "outputs": [
    {
     "data": {
      "text/html": [
       "<div>\n",
       "<style scoped>\n",
       "    .dataframe tbody tr th:only-of-type {\n",
       "        vertical-align: middle;\n",
       "    }\n",
       "\n",
       "    .dataframe tbody tr th {\n",
       "        vertical-align: top;\n",
       "    }\n",
       "\n",
       "    .dataframe thead th {\n",
       "        text-align: right;\n",
       "    }\n",
       "</style>\n",
       "<table border=\"1\" class=\"dataframe\">\n",
       "  <thead>\n",
       "    <tr style=\"text-align: right;\">\n",
       "      <th></th>\n",
       "      <th>id</th>\n",
       "      <th>name</th>\n",
       "      <th>est_diameter_min</th>\n",
       "      <th>est_diameter_max</th>\n",
       "      <th>relative_velocity</th>\n",
       "      <th>miss_distance</th>\n",
       "      <th>absolute_magnitude</th>\n",
       "      <th>hazardous</th>\n",
       "      <th>year</th>\n",
       "    </tr>\n",
       "  </thead>\n",
       "  <tbody>\n",
       "    <tr>\n",
       "      <th>0</th>\n",
       "      <td>2162635</td>\n",
       "      <td>162635 (2000 SS164)</td>\n",
       "      <td>1.198271</td>\n",
       "      <td>2.679415</td>\n",
       "      <td>13569.249224</td>\n",
       "      <td>5.483974e+07</td>\n",
       "      <td>16.73</td>\n",
       "      <td>False</td>\n",
       "      <td>2000</td>\n",
       "    </tr>\n",
       "    <tr>\n",
       "      <th>1</th>\n",
       "      <td>2277475</td>\n",
       "      <td>277475 (2005 WK4)</td>\n",
       "      <td>0.265800</td>\n",
       "      <td>0.594347</td>\n",
       "      <td>73588.726663</td>\n",
       "      <td>6.143813e+07</td>\n",
       "      <td>20.00</td>\n",
       "      <td>True</td>\n",
       "      <td>2005</td>\n",
       "    </tr>\n",
       "    <tr>\n",
       "      <th>2</th>\n",
       "      <td>2512244</td>\n",
       "      <td>512244 (2015 YE18)</td>\n",
       "      <td>0.722030</td>\n",
       "      <td>1.614507</td>\n",
       "      <td>114258.692129</td>\n",
       "      <td>4.979872e+07</td>\n",
       "      <td>17.83</td>\n",
       "      <td>False</td>\n",
       "      <td>2015</td>\n",
       "    </tr>\n",
       "    <tr>\n",
       "      <th>3</th>\n",
       "      <td>3596030</td>\n",
       "      <td>(2012 BV13)</td>\n",
       "      <td>0.096506</td>\n",
       "      <td>0.215794</td>\n",
       "      <td>24764.303138</td>\n",
       "      <td>2.543497e+07</td>\n",
       "      <td>22.20</td>\n",
       "      <td>False</td>\n",
       "      <td>2012</td>\n",
       "    </tr>\n",
       "    <tr>\n",
       "      <th>4</th>\n",
       "      <td>3667127</td>\n",
       "      <td>(2014 GE35)</td>\n",
       "      <td>0.255009</td>\n",
       "      <td>0.570217</td>\n",
       "      <td>42737.733765</td>\n",
       "      <td>4.627557e+07</td>\n",
       "      <td>20.09</td>\n",
       "      <td>True</td>\n",
       "      <td>2014</td>\n",
       "    </tr>\n",
       "  </tbody>\n",
       "</table>\n",
       "</div>"
      ],
      "text/plain": [
       "        id                 name  est_diameter_min  est_diameter_max  \\\n",
       "0  2162635  162635 (2000 SS164)          1.198271          2.679415   \n",
       "1  2277475    277475 (2005 WK4)          0.265800          0.594347   \n",
       "2  2512244   512244 (2015 YE18)          0.722030          1.614507   \n",
       "3  3596030          (2012 BV13)          0.096506          0.215794   \n",
       "4  3667127          (2014 GE35)          0.255009          0.570217   \n",
       "\n",
       "   relative_velocity  miss_distance  absolute_magnitude  hazardous  year  \n",
       "0       13569.249224   5.483974e+07               16.73      False  2000  \n",
       "1       73588.726663   6.143813e+07               20.00       True  2005  \n",
       "2      114258.692129   4.979872e+07               17.83      False  2015  \n",
       "3       24764.303138   2.543497e+07               22.20      False  2012  \n",
       "4       42737.733765   4.627557e+07               20.09       True  2014  "
      ]
     },
     "execution_count": 28,
     "metadata": {},
     "output_type": "execute_result"
    }
   ],
   "source": [
    "df.head()"
   ]
  },
  {
   "cell_type": "code",
   "execution_count": 29,
   "id": "c5ad8383-579c-433e-bbb3-1cdb837c100a",
   "metadata": {},
   "outputs": [
    {
     "data": {
      "image/png": "[encoded data removed]",
      "text/plain": [
       "<Figure size 720x576 with 1 Axes>"
      ]
     },
     "metadata": {
      "needs_background": "light"
     },
     "output_type": "display_data"
    }
   ],
   "source": [
    "sns.boxplot(x='hazardous',y='year',data=df)\n",
    "plt.show()"
   ]
  },
  {
   "cell_type": "markdown",
   "id": "d14eaf42-de73-4864-b37b-99dced22b1d8",
   "metadata": {},
   "source": [
    "### Inference from the boxplot\n",
    "\n",
    "* Hazardous objects were mostly discovered between around 2002 to before 2020\n",
    "* There were many non-hazardous objects discovered pre-1980s"
   ]
  },
  {
   "cell_type": "markdown",
   "id": "ff46efb0-d7de-4590-8944-b1de35b1a8d7",
   "metadata": {},
   "source": [
    "## Feature Engineering"
   ]
  },
  {
   "cell_type": "code",
   "execution_count": 30,
   "id": "70a386f8-d8d0-464f-bf40-137777bced3e",
   "metadata": {},
   "outputs": [],
   "source": [
    "# Dropping more unnecessary columns as they have no effect on hazardous\n",
    "df.drop(columns=['id','name'],inplace=True)"
   ]
  },
  {
   "cell_type": "code",
   "execution_count": 31,
   "id": "b690db34-f399-400b-bc23-85bd5ad08103",
   "metadata": {},
   "outputs": [],
   "source": [
    "# Replacing True with 1 and false with 0 in hazardous\n",
    "df['hazardous'].replace(to_replace=[True,False],value=[1,0],inplace=True)"
   ]
  },
  {
   "cell_type": "code",
   "execution_count": 32,
   "id": "a76a46f5-92fe-4f28-8d53-5880c81b92c5",
   "metadata": {},
   "outputs": [
    {
     "data": {
      "text/html": [
       "<div>\n",
       "<style scoped>\n",
       "    .dataframe tbody tr th:only-of-type {\n",
       "        vertical-align: middle;\n",
       "    }\n",
       "\n",
       "    .dataframe tbody tr th {\n",
       "        vertical-align: top;\n",
       "    }\n",
       "\n",
       "    .dataframe thead th {\n",
       "        text-align: right;\n",
       "    }\n",
       "</style>\n",
       "<table border=\"1\" class=\"dataframe\">\n",
       "  <thead>\n",
       "    <tr style=\"text-align: right;\">\n",
       "      <th></th>\n",
       "      <th>est_diameter_min</th>\n",
       "      <th>est_diameter_max</th>\n",
       "      <th>relative_velocity</th>\n",
       "      <th>miss_distance</th>\n",
       "      <th>absolute_magnitude</th>\n",
       "      <th>hazardous</th>\n",
       "      <th>year</th>\n",
       "    </tr>\n",
       "  </thead>\n",
       "  <tbody>\n",
       "    <tr>\n",
       "      <th>0</th>\n",
       "      <td>1.198271</td>\n",
       "      <td>2.679415</td>\n",
       "      <td>13569.249224</td>\n",
       "      <td>5.483974e+07</td>\n",
       "      <td>16.73</td>\n",
       "      <td>0</td>\n",
       "      <td>2000</td>\n",
       "    </tr>\n",
       "    <tr>\n",
       "      <th>1</th>\n",
       "      <td>0.265800</td>\n",
       "      <td>0.594347</td>\n",
       "      <td>73588.726663</td>\n",
       "      <td>6.143813e+07</td>\n",
       "      <td>20.00</td>\n",
       "      <td>1</td>\n",
       "      <td>2005</td>\n",
       "    </tr>\n",
       "    <tr>\n",
       "      <th>2</th>\n",
       "      <td>0.722030</td>\n",
       "      <td>1.614507</td>\n",
       "      <td>114258.692129</td>\n",
       "      <td>4.979872e+07</td>\n",
       "      <td>17.83</td>\n",
       "      <td>0</td>\n",
       "      <td>2015</td>\n",
       "    </tr>\n",
       "    <tr>\n",
       "      <th>3</th>\n",
       "      <td>0.096506</td>\n",
       "      <td>0.215794</td>\n",
       "      <td>24764.303138</td>\n",
       "      <td>2.543497e+07</td>\n",
       "      <td>22.20</td>\n",
       "      <td>0</td>\n",
       "      <td>2012</td>\n",
       "    </tr>\n",
       "    <tr>\n",
       "      <th>4</th>\n",
       "      <td>0.255009</td>\n",
       "      <td>0.570217</td>\n",
       "      <td>42737.733765</td>\n",
       "      <td>4.627557e+07</td>\n",
       "      <td>20.09</td>\n",
       "      <td>1</td>\n",
       "      <td>2014</td>\n",
       "    </tr>\n",
       "  </tbody>\n",
       "</table>\n",
       "</div>"
      ],
      "text/plain": [
       "   est_diameter_min  est_diameter_max  relative_velocity  miss_distance  \\\n",
       "0          1.198271          2.679415       13569.249224   5.483974e+07   \n",
       "1          0.265800          0.594347       73588.726663   6.143813e+07   \n",
       "2          0.722030          1.614507      114258.692129   4.979872e+07   \n",
       "3          0.096506          0.215794       24764.303138   2.543497e+07   \n",
       "4          0.255009          0.570217       42737.733765   4.627557e+07   \n",
       "\n",
       "   absolute_magnitude  hazardous  year  \n",
       "0               16.73          0  2000  \n",
       "1               20.00          1  2005  \n",
       "2               17.83          0  2015  \n",
       "3               22.20          0  2012  \n",
       "4               20.09          1  2014  "
      ]
     },
     "execution_count": 32,
     "metadata": {},
     "output_type": "execute_result"
    }
   ],
   "source": [
    "df.head()"
   ]
  },
  {
   "cell_type": "code",
   "execution_count": 33,
   "id": "701bef15-c09a-46e3-ab52-8a01a5450626",
   "metadata": {},
   "outputs": [
    {
     "data": {
      "text/html": [
       "<div>\n",
       "<style scoped>\n",
       "    .dataframe tbody tr th:only-of-type {\n",
       "        vertical-align: middle;\n",
       "    }\n",
       "\n",
       "    .dataframe tbody tr th {\n",
       "        vertical-align: top;\n",
       "    }\n",
       "\n",
       "    .dataframe thead th {\n",
       "        text-align: right;\n",
       "    }\n",
       "</style>\n",
       "<table border=\"1\" class=\"dataframe\">\n",
       "  <thead>\n",
       "    <tr style=\"text-align: right;\">\n",
       "      <th></th>\n",
       "      <th>est_diameter_min</th>\n",
       "      <th>est_diameter_max</th>\n",
       "      <th>relative_velocity</th>\n",
       "      <th>miss_distance</th>\n",
       "      <th>absolute_magnitude</th>\n",
       "      <th>hazardous</th>\n",
       "      <th>year</th>\n",
       "    </tr>\n",
       "  </thead>\n",
       "  <tbody>\n",
       "    <tr>\n",
       "      <th>est_diameter_min</th>\n",
       "      <td>1.000000</td>\n",
       "      <td>1.000000</td>\n",
       "      <td>0.221553</td>\n",
       "      <td>0.142241</td>\n",
       "      <td>-0.560188</td>\n",
       "      <td>0.183363</td>\n",
       "      <td>-0.468348</td>\n",
       "    </tr>\n",
       "    <tr>\n",
       "      <th>est_diameter_max</th>\n",
       "      <td>1.000000</td>\n",
       "      <td>1.000000</td>\n",
       "      <td>0.221553</td>\n",
       "      <td>0.142241</td>\n",
       "      <td>-0.560188</td>\n",
       "      <td>0.183363</td>\n",
       "      <td>-0.468348</td>\n",
       "    </tr>\n",
       "    <tr>\n",
       "      <th>relative_velocity</th>\n",
       "      <td>0.221553</td>\n",
       "      <td>0.221553</td>\n",
       "      <td>1.000000</td>\n",
       "      <td>0.327169</td>\n",
       "      <td>-0.353863</td>\n",
       "      <td>0.191185</td>\n",
       "      <td>-0.128262</td>\n",
       "    </tr>\n",
       "    <tr>\n",
       "      <th>miss_distance</th>\n",
       "      <td>0.142241</td>\n",
       "      <td>0.142241</td>\n",
       "      <td>0.327169</td>\n",
       "      <td>1.000000</td>\n",
       "      <td>-0.264168</td>\n",
       "      <td>0.042302</td>\n",
       "      <td>-0.101514</td>\n",
       "    </tr>\n",
       "    <tr>\n",
       "      <th>absolute_magnitude</th>\n",
       "      <td>-0.560188</td>\n",
       "      <td>-0.560188</td>\n",
       "      <td>-0.353863</td>\n",
       "      <td>-0.264168</td>\n",
       "      <td>1.000000</td>\n",
       "      <td>-0.365267</td>\n",
       "      <td>0.517477</td>\n",
       "    </tr>\n",
       "    <tr>\n",
       "      <th>hazardous</th>\n",
       "      <td>0.183363</td>\n",
       "      <td>0.183363</td>\n",
       "      <td>0.191185</td>\n",
       "      <td>0.042302</td>\n",
       "      <td>-0.365267</td>\n",
       "      <td>1.000000</td>\n",
       "      <td>-0.269807</td>\n",
       "    </tr>\n",
       "    <tr>\n",
       "      <th>year</th>\n",
       "      <td>-0.468348</td>\n",
       "      <td>-0.468348</td>\n",
       "      <td>-0.128262</td>\n",
       "      <td>-0.101514</td>\n",
       "      <td>0.517477</td>\n",
       "      <td>-0.269807</td>\n",
       "      <td>1.000000</td>\n",
       "    </tr>\n",
       "  </tbody>\n",
       "</table>\n",
       "</div>"
      ],
      "text/plain": [
       "                    est_diameter_min  est_diameter_max  relative_velocity  \\\n",
       "est_diameter_min            1.000000          1.000000           0.221553   \n",
       "est_diameter_max            1.000000          1.000000           0.221553   \n",
       "relative_velocity           0.221553          0.221553           1.000000   \n",
       "miss_distance               0.142241          0.142241           0.327169   \n",
       "absolute_magnitude         -0.560188         -0.560188          -0.353863   \n",
       "hazardous                   0.183363          0.183363           0.191185   \n",
       "year                       -0.468348         -0.468348          -0.128262   \n",
       "\n",
       "                    miss_distance  absolute_magnitude  hazardous      year  \n",
       "est_diameter_min         0.142241           -0.560188   0.183363 -0.468348  \n",
       "est_diameter_max         0.142241           -0.560188   0.183363 -0.468348  \n",
       "relative_velocity        0.327169           -0.353863   0.191185 -0.128262  \n",
       "miss_distance            1.000000           -0.264168   0.042302 -0.101514  \n",
       "absolute_magnitude      -0.264168            1.000000  -0.365267  0.517477  \n",
       "hazardous                0.042302           -0.365267   1.000000 -0.269807  \n",
       "year                    -0.101514            0.517477  -0.269807  1.000000  "
      ]
     },
     "execution_count": 33,
     "metadata": {},
     "output_type": "execute_result"
    }
   ],
   "source": [
    "#Checking co-relation\n",
    "df.corr()"
   ]
  },
  {
   "cell_type": "code",
   "execution_count": 34,
   "id": "bfdad9dc-8f20-46f6-9060-6a3c45236629",
   "metadata": {},
   "outputs": [
    {
     "data": {
      "image/png": "[encoded data removed]",
      "text/plain": [
       "<Figure size 720x576 with 2 Axes>"
      ]
     },
     "metadata": {
      "needs_background": "light"
     },
     "output_type": "display_data"
    }
   ],
   "source": [
    "sns.heatmap(df.corr(),cmap='YlGnBu')\n",
    "plt.show()"
   ]
  },
  {
   "cell_type": "code",
   "execution_count": 35,
   "id": "6325c005-a6a7-44c6-9217-2776cf431a11",
   "metadata": {},
   "outputs": [],
   "source": [
    "# dropping year column as it has no effect on hazardous\n",
    "df.drop(columns='year',inplace=True)"
   ]
  },
  {
   "cell_type": "markdown",
   "id": "cc09e7e1-05f4-49bb-8964-99e4765e6e77",
   "metadata": {},
   "source": [
    "## Splitting the data into train and test sets and scaling them"
   ]
  },
  {
   "cell_type": "code",
   "execution_count": 36,
   "id": "781e9cba-12b0-4dd4-81c6-5aae8bd63d85",
   "metadata": {},
   "outputs": [],
   "source": [
    "# Splitting the data\n",
    "from sklearn.model_selection import train_test_split\n",
    "X = df.drop(columns='hazardous')\n",
    "Y=df.loc[:,'hazardous']\n",
    "X_train,X_test,Y_train,Y_test=train_test_split(X,Y,random_state=10,train_size=0.75)"
   ]
  },
  {
   "cell_type": "code",
   "execution_count": 37,
   "id": "1207a037-007e-46ea-ad46-c295923ef70a",
   "metadata": {},
   "outputs": [],
   "source": [
    "from sklearn.preprocessing import StandardScaler\n",
    "sc=StandardScaler() # Machine Instance\n",
    "train_scaled=pd.DataFrame(sc.fit_transform(X_train)) # Scaling the train set\n",
    "test_scaled=pd.DataFrame(sc.transform(X_test)) # Scaling the test set"
   ]
  },
  {
   "cell_type": "markdown",
   "id": "1620d73b-6f2a-4107-bd33-b83558d27abf",
   "metadata": {},
   "source": [
    "## Decision Tree Classifier Model"
   ]
  },
  {
   "cell_type": "code",
   "execution_count": 38,
   "id": "b268b52c-9006-4983-ac07-ceba32013afd",
   "metadata": {},
   "outputs": [],
   "source": [
    "# Importing Decision Tree Classifier for predictions and accuracy_score to check accuracy\n",
    "from sklearn.tree import DecisionTreeClassifier\n",
    "from sklearn.metrics import accuracy_score"
   ]
  },
  {
   "cell_type": "code",
   "execution_count": 39,
   "id": "cbf4cb7d-610f-4f3d-b502-6ce241cbf82f",
   "metadata": {},
   "outputs": [],
   "source": [
    "model=DecisionTreeClassifier() # Machine Instance\n",
    "model.fit(train_scaled,Y_train) # Traing the model\n",
    "\n",
    "predictions_train=model.predict(train_scaled) # Predicting for train set\n",
    "acc_train=accuracy_score(Y_train,predictions_train) # Calculating accuracy\n",
    "\n",
    "\n",
    "predictions_test=model.predict(test_scaled) # Predicting on test set\n",
    "acc_test=accuracy_score(Y_test,predictions_test) # Calculating accuracy"
   ]
  },
  {
   "cell_type": "code",
   "execution_count": 40,
   "id": "0855bde8-be9b-46be-842f-10aa0a2cb44d",
   "metadata": {},
   "outputs": [
    {
     "name": "stdout",
     "output_type": "stream",
     "text": [
      "Accuracy of predictions on train data: 100.0 %\n",
      "Accuracy of predictions on test data: 89.55 %\n"
     ]
    }
   ],
   "source": [
    "print('Accuracy of predictions on train data:',round(acc_train*100,2),'%')\n",
    "print('Accuracy of predictions on test data:',round(acc_test*100,2),'%')"
   ]
  },
  {
   "cell_type": "markdown",
   "id": "8e915d43-e264-49dc-b8bd-0e2c345c9d65",
   "metadata": {},
   "source": [
    "## Logistic Regression"
   ]
  },
  {
   "cell_type": "code",
   "execution_count": 41,
   "id": "f9dd0780-5708-453d-97e7-93ffb7e36e62",
   "metadata": {},
   "outputs": [],
   "source": [
    "from sklearn.linear_model import LogisticRegression # Importing Logistic Regression model\n",
    "\n",
    "model_lr=LogisticRegression() # Machine Instance\n",
    "model_lr.fit(train_scaled,Y_train)# Training the model\n",
    "\n",
    "# Predictions made\n",
    "predict_train=model_lr.predict(train_scaled)\n",
    "predict_test=model_lr.predict(test_scaled)\n",
    "\n",
    "# Accuracy Calculation\n",
    "acc_train=accuracy_score(predict_train,Y_train)\n",
    "acc_test=accuracy_score(predict_test,Y_test)"
   ]
  },
  {
   "cell_type": "code",
   "execution_count": 42,
   "id": "9ef01d25-b796-4d3a-9dbe-579fe6af38a7",
   "metadata": {},
   "outputs": [
    {
     "name": "stdout",
     "output_type": "stream",
     "text": [
      "Accuracy of predictions on Train set: 90.09 %\n",
      "Accuracy of predictions on Test set: 90.52 %\n"
     ]
    }
   ],
   "source": [
    "print('Accuracy of predictions on Train set:',round(acc_train*100,2),'%')\n",
    "print('Accuracy of predictions on Test set:',round(acc_test*100,2),'%')"
   ]
  },
  {
   "cell_type": "markdown",
   "id": "124a9310-b4aa-43fb-aae5-566d7f4d2a6d",
   "metadata": {},
   "source": [
    "## Random Forest Classifier"
   ]
  },
  {
   "cell_type": "code",
   "execution_count": 43,
   "id": "c4a5489c-e736-45d9-97d7-5a7b5c663fb0",
   "metadata": {},
   "outputs": [],
   "source": [
    "from sklearn.ensemble import RandomForestClassifier\n",
    "model_rf=RandomForestClassifier() # Machine Instance\n",
    "model_rf.fit(train_scaled,Y_train)# Training the model\n",
    "\n",
    "# Predictions made\n",
    "predict_train=model_rf.predict(train_scaled)\n",
    "predict_test=model_rf.predict(test_scaled)\n",
    "\n",
    "# accuracy calculation\n",
    "acc_train=accuracy_score(predict_train,Y_train)\n",
    "acc_test=accuracy_score(predict_test,Y_test)"
   ]
  },
  {
   "cell_type": "code",
   "execution_count": 44,
   "id": "6aae45e7-ee14-491a-8a10-62791c0e3d4f",
   "metadata": {},
   "outputs": [
    {
     "name": "stdout",
     "output_type": "stream",
     "text": [
      "Accuracy of predictions on Train set: 100.0 %\n",
      "Accuracy of predictions on Test set: 91.9 %\n"
     ]
    }
   ],
   "source": [
    "print('Accuracy of predictions on Train set:',round(acc_train*100,2),'%')\n",
    "print('Accuracy of predictions on Test set:',round(acc_test*100,2),'%')"
   ]
  }
 ],
 "metadata": {
  "kernelspec": {
   "display_name": "Python 3 (ipykernel)",
   "language": "python",
   "name": "python3"
  },
  "language_info": {
   "codemirror_mode": {
    "name": "ipython",
    "version": 3
   },
   "file_extension": ".py",
   "mimetype": "text/x-python",
   "name": "python",
   "nbconvert_exporter": "python",
   "pygments_lexer": "ipython3",
   "version": "3.9.7"
  }
 },
 "nbformat": 4,
 "nbformat_minor": 5
}
